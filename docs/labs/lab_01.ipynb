{
  "cells": [
    {
      "cell_type": "markdown",
      "id": "e2696553",
      "metadata": {
        "id": "e2696553"
      },
      "source": [
        "<a href=\"https://colab.research.google.com/github/fralfaro/MAT281_2023/blob/main/docs/labs/lab_01.ipynb\" target=\"_parent\"><img src=\"https://colab.research.google.com/assets/colab-badge.svg\" alt=\"Open In Colab\"/></a>\n",
        "\n",
        "\n",
        "# MAT281 - Laboratorio N°01\n"
      ]
    },
    {
      "cell_type": "markdown",
      "id": "a869ace0",
      "metadata": {
        "id": "a869ace0"
      },
      "source": [
        "## Problema 01\n",
        "\n",
        "En los siglos XVII y XVIII, James Gregory y Gottfried Leibniz descubrieron una serie infinita que sirve para calcular $\\pi$:\n",
        "\n",
        "$$\\displaystyle \\pi = 4 \\sum_{k=1}^{\\infty}\\dfrac{(-1)^{k+1}}{2k-1} = 4(1-\\dfrac{1}{3}+\\dfrac{1}{5}-\\dfrac{1}{7} + ...) $$\n",
        "\n",
        "Desarolle un programa para estimar el valor de $\\pi$ ocupando el método de Leibniz, donde la entrada del programa debe ser un número entero $n$ que indique cuántos términos de la suma se utilizará.\n",
        "\n",
        "\n",
        "* **Ejemplo**:\n",
        "    * *calcular_pi(3)* = 3.466666666666667\n",
        "    * *calcular_pi(1000)* = 3.140592653839794"
      ]
    },
    {
      "cell_type": "code",
      "execution_count": 10,
      "id": "dd54e855",
      "metadata": {
        "id": "dd54e855",
        "outputId": "66aa1f09-6320-4c84-ffdb-459fb7476bf6",
        "colab": {
          "base_uri": "https://localhost:8080/"
        }
      },
      "outputs": [
        {
          "output_type": "stream",
          "name": "stdout",
          "text": [
            "3.466666666666667\n",
            "3.140592653839794\n"
          ]
        }
      ],
      "source": [
        "# FIXME\n",
        "def calcular_pi(n):\n",
        "  if n<=0:\n",
        "    return \"Entrada Inválida\"\n",
        "  else:\n",
        "    resultado= 0.0\n",
        "    for k in range(1,n+1):\n",
        "      divisor=(2*k-1)\n",
        "      suma=4*(-1)**(k+1)/divisor\n",
        "      resultado= resultado+suma\n",
        "    return resultado\n",
        "\n",
        "print(calcular_pi(3))\n",
        "print(calcular_pi(1000))"
      ]
    },
    {
      "cell_type": "markdown",
      "id": "c26be634",
      "metadata": {
        "id": "c26be634"
      },
      "source": [
        "## Problema 02\n",
        "\n",
        "Euler realizó varios aportes en relación a $e$, pero no fue hasta 1748 cuando publicó su **Introductio in analysin infinitorum** que dio un tratamiento definitivo a las ideas sobre $e$. Allí mostró que:\n",
        "\n",
        "\n",
        "En los siglos XVII y XVIII, James Gregory y Gottfried Leibniz descubrieron una serie infinita que sirve para calcular π:\n",
        "\n",
        "$$\\displaystyle e = \\sum_{k=0}^{\\infty}\\dfrac{1}{k!} = 1+\\dfrac{1}{2!}+\\dfrac{1}{3!}+\\dfrac{1}{4!} + ... $$\n",
        "\n",
        "Desarolle un programa para estimar el valor de $e$ ocupando el método de Euler, donde la entrada del programa debe ser un número entero $n$ que indique cuántos términos de la suma se utilizará.\n",
        "\n",
        "Para esto:\n",
        "\n",
        "* a) Defina la función `factorial`, donde la entrada sea un número natural  $n$ y la salida sea el factorial de dicho número.\n",
        "    * **Ejemplo**: *factorial(3)* =3, *factorial(5)* = 120\n",
        "    \n",
        "    \n",
        "* b) Ocupe la función `factorial` dentro de la función `calcular_e`.     \n",
        "    * **Ejemplo**: *calcular_e(3)* = 2.6666666666666665, *calcular_e(1000)* = 2.7182818284590455"
      ]
    },
    {
      "cell_type": "code",
      "execution_count": 1,
      "id": "706d4c0a",
      "metadata": {
        "id": "706d4c0a",
        "outputId": "57f15d3a-2a0d-48b7-845c-2684286078e8",
        "colab": {
          "base_uri": "https://localhost:8080/"
        }
      },
      "outputs": [
        {
          "output_type": "stream",
          "name": "stdout",
          "text": [
            "6\n",
            "120\n",
            "2.6666666666666665\n",
            "2.7182818284590455\n"
          ]
        }
      ],
      "source": [
        "\n",
        "# primero se define la función factorial:\n",
        "def factorial(n):\n",
        "  resultado=1\n",
        "  if n<0:\n",
        "    return \"El factorial no está definido para números negativos\"\n",
        "  elif n==0:\n",
        "    return 1\n",
        "  else:\n",
        "    for k in range(1,n+1):\n",
        "      resultado=resultado*k\n",
        "    return resultado\n",
        "print(factorial(3))\n",
        "print(factorial(5))\n",
        "# Se crea la función calcular_e(n) incluyendo la función factorial\n",
        "def calcular_e(n):\n",
        "  e=1.0\n",
        "  suma=1.0\n",
        "  for k in range(1,n+1):\n",
        "    suma=1/factorial(k)\n",
        "    e=e+suma\n",
        "  return e\n",
        "print(calcular_e(3))\n",
        "print(calcular_e(1000))\n"
      ]
    },
    {
      "cell_type": "markdown",
      "id": "9707be93",
      "metadata": {
        "id": "9707be93"
      },
      "source": [
        "## Problema 03\n",
        "\n",
        "Sea $\\sigma(n)$ definido como la suma de los divisores propios de $n$ (números menores que n que se dividen en $n$).\n",
        "\n",
        "Los [números amigos](https://en.wikipedia.org/wiki/Amicable_numbers) son  enteros positivos $n_1$ y $n_2$ tales que la suma de los divisores propios de uno es igual al otro número y viceversa, es decir, $\\sigma(n_1)=\\sigma(n_2)$ y $\\sigma(n_2)=\\sigma(n_1)$.\n",
        "\n",
        "\n",
        "Por ejemplo, los números 220 y 284 son números amigos.\n",
        "* los divisores propios de 220 son 1, 2, 4, 5, 10, 11, 20, 22, 44, 55 y 110; por lo tanto $\\sigma(220) = 284$.\n",
        "* los divisores propios de 284 son 1, 2, 4, 71 y 142; entonces $\\sigma(284) = 220$.\n",
        "\n",
        "\n",
        "Implemente una función llamada `amigos` cuyo input sean dos números naturales $n_1$ y $n_2$, cuyo output sea verifique si los números son amigos o no.\n",
        "\n",
        "Para esto:\n",
        "\n",
        "* a) Defina la función `divisores_propios`, donde la entrada sea un número natural $n$ y la salida sea una lista con los divisores propios de dicho número.\n",
        "    * **Ejemplo**: *divisores_propios(220)* = [1, 2, 4, 5, 10, 11, 20, 22, 44, 55 y 110], *divisores_propios(284)* = [1, 2, 4, 71 y 142]\n",
        "    \n",
        "    \n",
        "* b) Ocupe la función `divisores_propios` dentro de la función `amigos`.\n",
        "\n",
        "    * **Ejemplo**: *amigos(220,284)* = True, *amigos(6,5)* = False"
      ]
    },
    {
      "cell_type": "code",
      "execution_count": 24,
      "id": "e695ea21",
      "metadata": {
        "id": "e695ea21",
        "outputId": "6782a4ae-0677-4d63-ee1d-14a8e98e7fdd",
        "colab": {
          "base_uri": "https://localhost:8080/"
        }
      },
      "outputs": [
        {
          "output_type": "stream",
          "name": "stdout",
          "text": [
            "[1, 2, 4, 5, 10, 11, 20, 22, 44, 55, 110]\n",
            "[1, 2, 4, 71, 142]\n",
            "True\n",
            "False\n"
          ]
        }
      ],
      "source": [
        "# Se define la función divisores_propios(n)\n",
        "def divisores_propios(n):\n",
        "  lista=[]\n",
        "  for i in range(1,n):\n",
        "    if n%i==0:\n",
        "      lista.append(i)\n",
        "  return lista\n",
        "print(divisores_propios(220))\n",
        "print(divisores_propios(284))\n",
        "\n",
        "#Se define la función amigos(m,n)\n",
        "def amigos(m,n):\n",
        "  suma_m=0\n",
        "  suma_n=0\n",
        "  for valor in divisores_propios(m):\n",
        "    suma_m= suma_m+valor\n",
        "  for val in divisores_propios(n):\n",
        "    suma_n= suma_n+val\n",
        "  if (suma_m)==n:\n",
        "    return True\n",
        "  elif (suma_n)==m:\n",
        "    return True\n",
        "  else:\n",
        "    return False\n",
        "print(amigos(220,284))\n",
        "print(amigos(6,5))"
      ]
    },
    {
      "cell_type": "markdown",
      "id": "cf93a039",
      "metadata": {
        "id": "cf93a039"
      },
      "source": [
        "## Problema 04\n",
        "\n",
        "La [conjetura de Collatz](https://en.wikipedia.org/wiki/Collatz_conjecture), conocida también como conjetura $3n+1$ o conjetura de Ulam (entre otros nombres), fue enunciada por el matemático Lothar Collatz en 1937, y a la fecha no se ha resuelto.\n",
        "\n",
        "Sea la siguiente operación, aplicable a cualquier número entero positivo:\n",
        "* Si el número es par, se divide entre 2.\n",
        "* Si el número es impar, se multiplica por 3 y se suma 1.\n",
        "\n",
        "La conjetura dice que siempre alcanzaremos el 1 (y por tanto el ciclo 4, 2, 1) para cualquier número con el que comencemos.\n",
        "\n",
        "Implemente una función llamada `collatz` cuyo input sea un número natural positivo $N$ y como output devulva la secuencia de números hasta llegar a 1.\n",
        "\n",
        "* **Ejemplo**: *collatz(9)* = [9, 28, 14, 7, 22, 11, 34, 17, 52, 26, 13, 40, 20, 10, 5, 16, 8, 4, 2, 1]"
      ]
    },
    {
      "cell_type": "code",
      "execution_count": 34,
      "id": "10501a00",
      "metadata": {
        "id": "10501a00",
        "outputId": "370783b9-97c7-4aae-f9af-9d67306f964b",
        "colab": {
          "base_uri": "https://localhost:8080/"
        }
      },
      "outputs": [
        {
          "output_type": "stream",
          "name": "stdout",
          "text": [
            "[9, 28, 14, 7, 22, 11, 34, 17, 52, 26, 13, 40, 20, 10, 5, 16, 8, 4, 2, 1]\n"
          ]
        }
      ],
      "source": [
        "# Desarrollo Código Conjetura de Collatz\n",
        "def collatz(N):\n",
        "    lista = [N]\n",
        "    while N != 1:\n",
        "        if N%2==0:\n",
        "            N=N//2\n",
        "        else:\n",
        "            N=3*N+1\n",
        "        lista.append(N)\n",
        "    return lista\n",
        "print(collatz(9))\n"
      ]
    },
    {
      "cell_type": "markdown",
      "id": "d15af4eb",
      "metadata": {
        "id": "d15af4eb"
      },
      "source": [
        "## Problema 05\n",
        "La [conjetura de Goldbach](https://en.wikipedia.org/wiki/Goldbach%27s_conjecture) es uno de los problemas abiertos más antiguos en matemáticas. Concretamente, G.H. Hardy, en 1921, en su famoso discurso pronunciado en la Sociedad Matemática de Copenhague, comentó que probablemente la conjetura de Goldbach no es solo uno de los problemas no resueltos más difíciles de la teoría de números, sino de todas las matemáticas. Su enunciado es el siguiente:\n",
        "\n",
        "> Todo número par mayor que 2 puede escribirse como suma de dos números primos - Christian Goldbach (1742)\n",
        "\n",
        "Implemente una función llamada `goldbach` cuyo input sea un número natural positivo $n$ y como output devuelva la suma de dos primos ($n_1$ y $n_2$) tal que: $n_1+n_2=n$.\n",
        "\n",
        "Para esto:\n",
        "\n",
        "* a) Defina la función `es_primo`, donde la entrada sea un número natural $n$ y la salida sea **True** si el número es primo y **False** en otro caso.\n",
        "    * **Ejemplo**: *es_primo(3)* = True, *es_primo(4)* = False\n",
        "    \n",
        "    \n",
        "* b)  Defina la función `lista_de_primos`, donde la entrada sea un número natural par $n$ mayor que dos y la salida sea una lista con todos los número primos entre 2 y $n$.\n",
        "    * **Ejemplo**: *lista_de_primos(4)* = [2,3], *lista_de_primos(6)* = [2,3,5], *lista_de_primos(8)* = [2,3,5,7]\n",
        "\n",
        "\n",
        "* c) Ocupe la función `lista_de_primos` dentro de la función `goldbash`.\n",
        " * **Ejemplo**: goldbash(4) = (2,2), goldbash(6) = (3,3) , goldbash(8) = (3,5)"
      ]
    },
    {
      "cell_type": "code",
      "execution_count": 42,
      "id": "cccb4ae0",
      "metadata": {
        "id": "cccb4ae0",
        "outputId": "753b42c6-0792-49db-9230-ddccc71dba3c",
        "colab": {
          "base_uri": "https://localhost:8080/"
        }
      },
      "outputs": [
        {
          "output_type": "stream",
          "name": "stdout",
          "text": [
            "True\n",
            "False\n",
            "[2, 3]\n",
            "[2, 3, 5, 7, 11, 13, 17, 19]\n",
            "(2, 2)\n",
            "(3, 3)\n",
            "(3, 5)\n"
          ]
        }
      ],
      "source": [
        "# Se define la función es_primo(n)\n",
        "def es_primo(n):\n",
        "  if n<=1:\n",
        "    return False\n",
        "  for k in range(2,int(n**0.5)+1):\n",
        "    if n%k==0:\n",
        "      return False\n",
        "  return True\n",
        "print(es_primo(3))\n",
        "print(es_primo(6))\n",
        "#Se define la función lista_de_primos(n):\n",
        "def lista_de_primos(n):\n",
        "  if n%2!=0:\n",
        "    return \"Entrada Inválida\"\n",
        "  lista=[]\n",
        "  for valor in range(2,n):\n",
        "    if es_primo(valor)==True:\n",
        "      lista.append(valor)\n",
        "  return lista\n",
        "print(lista_de_primos(4))\n",
        "print(lista_de_primos(20))\n",
        "# Se define la función goldbash(n):\n",
        "def goldbash(n):\n",
        "    if n%2!=0:\n",
        "      return \"Entrada Inválida\"\n",
        "    tupla=()\n",
        "    num_1=0\n",
        "    num_2=0\n",
        "    suma=0\n",
        "    for valor in  lista_de_primos(n):\n",
        "      num_1=valor\n",
        "      for numero in lista_de_primos(n):\n",
        "        num_2=numero\n",
        "        suma=num_1+num_2\n",
        "        if suma==n:\n",
        "          tupla=tupla +(valor,)\n",
        "          tupla=tupla+(numero,)\n",
        "          return tupla\n",
        "print(goldbash(4))\n",
        "print(goldbash(6))\n",
        "print(goldbash(8))"
      ]
    }
  ],
  "metadata": {
    "kernelspec": {
      "display_name": "Python 3 (ipykernel)",
      "language": "python",
      "name": "python3"
    },
    "language_info": {
      "codemirror_mode": {
        "name": "ipython",
        "version": 3
      },
      "file_extension": ".py",
      "mimetype": "text/x-python",
      "name": "python",
      "nbconvert_exporter": "python",
      "pygments_lexer": "ipython3",
      "version": "3.8.10"
    },
    "colab": {
      "provenance": []
    }
  },
  "nbformat": 4,
  "nbformat_minor": 5
}